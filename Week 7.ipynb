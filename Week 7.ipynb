{
 "cells": [
  {
   "cell_type": "code",
   "execution_count": 2,
   "metadata": {},
   "outputs": [],
   "source": [
    "import numpy as np\n",
    "import os\n",
    "import pandas as pd"
   ]
  },
  {
   "cell_type": "code",
   "execution_count": 15,
   "metadata": {},
   "outputs": [],
   "source": [
    "S0 = 145.0              # spot stock price\n",
    "K = 120.0               # strike\n",
    "T = 4/52                 # maturity \n",
    "r = 0.0154                 # risk free rate \n",
    "sig = 0.6               # diffusion coefficient or volatility\n",
    "N = 4                   # number of periods or number of time steps  \n",
    "payoff = \"call\"          # payoff"
   ]
  },
  {
   "cell_type": "code",
   "execution_count": 16,
   "metadata": {},
   "outputs": [],
   "source": [
    "dt = float(T) / N                             # Delta t\n",
    "u = np.exp(sig * np.sqrt(dt))                 # up factor\n",
    "d = 1.0 / u    "
   ]
  },
  {
   "cell_type": "code",
   "execution_count": 17,
   "metadata": {},
   "outputs": [],
   "source": [
    "S = np.zeros((N + 1, N + 1))\n",
    "S[0, 0] = S0\n",
    "z = 1\n",
    "for t in range(1, N + 1):\n",
    "    for i in range(z):\n",
    "        S[i, t] = S[i, t-1] * u\n",
    "        S[i+1, t] = S[i, t-1] * d\n",
    "    z += 1"
   ]
  },
  {
   "cell_type": "code",
   "execution_count": 18,
   "metadata": {},
   "outputs": [
    {
     "data": {
      "text/plain": [
       "array([[145.        , 157.58086764, 171.25330929, 186.11203493,\n",
       "        202.25997202],\n",
       "       [  0.        , 133.42355779, 145.        , 157.58086764,\n",
       "        171.25330929],\n",
       "       [  0.        ,   0.        , 122.77135015, 133.42355779,\n",
       "        145.        ],\n",
       "       [  0.        ,   0.        ,   0.        , 112.96958849,\n",
       "        122.77135015],\n",
       "       [  0.        ,   0.        ,   0.        ,   0.        ,\n",
       "        103.9503753 ]])"
      ]
     },
     "execution_count": 18,
     "metadata": {},
     "output_type": "execute_result"
    }
   ],
   "source": [
    "\n",
    "S"
   ]
  },
  {
   "cell_type": "code",
   "execution_count": 19,
   "metadata": {},
   "outputs": [
    {
     "data": {
      "text/plain": [
       "0.48098860964322865"
      ]
     },
     "execution_count": 19,
     "metadata": {},
     "output_type": "execute_result"
    }
   ],
   "source": [
    "a = np.exp(r * dt)    # risk free compound return\n",
    "p = (a - d)/ (u - d)  # risk neutral up probability\n",
    "q = 1.0 - p           # risk neutral down probability\n",
    "p"
   ]
  },
  {
   "cell_type": "code",
   "execution_count": 22,
   "metadata": {},
   "outputs": [
    {
     "data": {
      "text/plain": [
       "array([[ 0.        ,  0.        ,  0.        ,  0.        , 82.25997202],\n",
       "       [ 0.        ,  0.        ,  0.        ,  0.        , 51.25330929],\n",
       "       [ 0.        ,  0.        ,  0.        ,  0.        , 25.        ],\n",
       "       [ 0.        ,  0.        ,  0.        ,  0.        ,  2.77135015],\n",
       "       [ 0.        ,  0.        ,  0.        ,  0.        ,  0.        ]])"
      ]
     },
     "execution_count": 22,
     "metadata": {},
     "output_type": "execute_result"
    }
   ],
   "source": [
    "S_T = S[:,-1]\n",
    "V = np.zeros((N + 1, N + 1))\n",
    "if payoff ==\"call\":\n",
    "    V[:,-1] = np.maximum(S_T-K, 0.0)\n",
    "elif payoff ==\"put\":\n",
    "    V[:,-1] = np.maximum(K-S_T, 0.0)\n",
    "V"
   ]
  },
  {
   "cell_type": "code",
   "execution_count": 23,
   "metadata": {},
   "outputs": [
    {
     "data": {
      "text/plain": [
       "array([202.25997202, 171.25330929, 145.        , 122.77135015,\n",
       "       103.9503753 ])"
      ]
     },
     "execution_count": 23,
     "metadata": {},
     "output_type": "execute_result"
    }
   ],
   "source": [
    "S_T = S[:,-1]\n",
    "S_T"
   ]
  },
  {
   "cell_type": "code",
   "execution_count": 24,
   "metadata": {},
   "outputs": [
    {
     "data": {
      "text/plain": [
       "array([[25.80119821, 37.14448208, 50.83022892, 65.8283731 , 82.25997202],\n",
       "       [ 0.        , 15.54476885, 24.82967895, 37.43488293, 51.25330929],\n",
       "       [ 0.        ,  0.        ,  7.09421374, 13.39414415, 25.        ],\n",
       "       [ 0.        ,  0.        ,  0.        ,  1.32616272,  2.77135015],\n",
       "       [ 0.        ,  0.        ,  0.        ,  0.        ,  0.        ]])"
      ]
     },
     "execution_count": 24,
     "metadata": {},
     "output_type": "execute_result"
    }
   ],
   "source": [
    "for j in range(N-1, -1, -1):\n",
    "    for i in range(j+1):\n",
    "        V[i,j] = np.exp(-r*dT) * (p * V[i,j + 1] + q * V[i + 1,j + 1])\n",
    "V"
   ]
  },
  {
   "cell_type": "code",
   "execution_count": 27,
   "metadata": {},
   "outputs": [
    {
     "name": "stdout",
     "output_type": "stream",
     "text": [
      "European call 26.05585713993444\n"
     ]
    }
   ],
   "source": [
    "\n",
    "print('European ' + payoff, str( V[0,0]))\n"
   ]
  },
  {
   "cell_type": "code",
   "execution_count": 26,
   "metadata": {},
   "outputs": [
    {
     "data": {
      "text/plain": [
       "array([[26.05585714, 37.58086764, 51.25330929, 66.11203493, 82.25997202],\n",
       "       [ 0.        , 15.63353965, 25.        , 37.58086764, 51.25330929],\n",
       "       [ 0.        ,  0.        ,  7.10828892, 13.42355779, 25.        ],\n",
       "       [ 0.        ,  0.        ,  0.        ,  1.32616272,  2.77135015],\n",
       "       [ 0.        ,  0.        ,  0.        ,  0.        ,  0.        ]])"
      ]
     },
     "execution_count": 26,
     "metadata": {},
     "output_type": "execute_result"
    }
   ],
   "source": [
    "if payoff ==\"call\":\n",
    "    for j in range(N-1, -1, -1):\n",
    "        for i in range(j+1):\n",
    "            V[i,j] = np.maximum(S[i,j] - K,np.exp(-r*dT) * (p * V[i,j + 1] + q * V[i + 1,j + 1]))\n",
    "elif payoff ==\"put\":\n",
    "    for j in range(N-1, -1, -1):\n",
    "        for i in range(j+1):\n",
    "            V[i,j] = np.maximum(K - S[i,j],np.exp(-r*dT) * (p * V[i,j + 1] + q * V[i + 1,j + 1]))\n",
    "V"
   ]
  },
  {
   "cell_type": "code",
   "execution_count": 28,
   "metadata": {},
   "outputs": [
    {
     "name": "stdout",
     "output_type": "stream",
     "text": [
      "American call 26.05585713993444\n"
     ]
    }
   ],
   "source": [
    "print('American ' + payoff, str( V[0,0]))"
   ]
  },
  {
   "cell_type": "code",
   "execution_count": 29,
   "metadata": {},
   "outputs": [],
   "source": [
    "def mcs_simulation_np(p):\n",
    "    M = p\n",
    "    I = p\n",
    "    dt = T / M \n",
    "    S = np.zeros((M + 1, I))\n",
    "    S[0] = S0 \n",
    "    rn = np.random.standard_normal(S.shape) \n",
    "    for t in range(1, M + 1): \n",
    "        S[t] = S[t-1] * np.exp((r - sigma ** 2 / 2) * dt + sigma * np.sqrt(dt) * rn[t]) \n",
    "    return S"
   ]
  },
  {
   "cell_type": "code",
   "execution_count": 30,
   "metadata": {},
   "outputs": [],
   "source": [
    "T = 1\n",
    "r = 0.1\n",
    "sigma = 0.2\n",
    "S0 = 100\n",
    "K = 100"
   ]
  },
  {
   "cell_type": "code",
   "execution_count": 31,
   "metadata": {},
   "outputs": [],
   "source": [
    "S = mcs_simulation_np(1000)"
   ]
  },
  {
   "cell_type": "code",
   "execution_count": 33,
   "metadata": {},
   "outputs": [
    {
     "data": {
      "text/plain": [
       "array([[100.        , 100.        , 100.        , ..., 100.        ,\n",
       "        100.        , 100.        ],\n",
       "       [ 99.55778076,  99.84503771,  98.90536215, ...,  99.92740816,\n",
       "         98.56713208, 100.78087218],\n",
       "       [ 99.29711316, 100.22301431,  99.30391847, ...,  99.78780496,\n",
       "         98.7062489 , 100.73879221],\n",
       "       ...,\n",
       "       [120.73560601, 111.82170366, 129.36144718, ...,  87.87081205,\n",
       "         94.60048259,  74.12760455],\n",
       "       [119.85861407, 112.05762485, 129.16907625, ...,  88.01266168,\n",
       "         94.01359759,  74.772322  ],\n",
       "       [119.79606639, 112.99940554, 129.27222773, ...,  87.14294743,\n",
       "         92.96020255,  74.60319438]])"
      ]
     },
     "execution_count": 33,
     "metadata": {},
     "output_type": "execute_result"
    }
   ],
   "source": [
    "S"
   ]
  },
  {
   "cell_type": "code",
   "execution_count": 34,
   "metadata": {},
   "outputs": [
    {
     "data": {
      "text/plain": [
       "array([[100.        ,  99.55778076,  99.29711316, ..., 120.73560601,\n",
       "        119.85861407, 119.79606639],\n",
       "       [100.        ,  99.84503771, 100.22301431, ..., 111.82170366,\n",
       "        112.05762485, 112.99940554],\n",
       "       [100.        ,  98.90536215,  99.30391847, ..., 129.36144718,\n",
       "        129.16907625, 129.27222773],\n",
       "       ...,\n",
       "       [100.        ,  99.92740816,  99.78780496, ...,  87.87081205,\n",
       "         88.01266168,  87.14294743],\n",
       "       [100.        ,  98.56713208,  98.7062489 , ...,  94.60048259,\n",
       "         94.01359759,  92.96020255],\n",
       "       [100.        , 100.78087218, 100.73879221, ...,  74.12760455,\n",
       "         74.772322  ,  74.60319438]])"
      ]
     },
     "execution_count": 34,
     "metadata": {},
     "output_type": "execute_result"
    }
   ],
   "source": [
    "S = np.transpose(S)\n",
    "S"
   ]
  },
  {
   "cell_type": "code",
   "execution_count": 35,
   "metadata": {},
   "outputs": [
    {
     "name": "stdout",
     "output_type": "stream",
     "text": [
      "European put 4.487269433346493\n"
     ]
    }
   ],
   "source": [
    "p = np.mean(np.maximum(K - S[:,-1],0))\n",
    "print('European put', str(p))"
   ]
  },
  {
   "cell_type": "code",
   "execution_count": 36,
   "metadata": {},
   "outputs": [
    {
     "name": "stdout",
     "output_type": "stream",
     "text": [
      "European call 14.67858784572602\n"
     ]
    }
   ],
   "source": [
    "c = np.mean(np.maximum(S[:,-1] - K,0))\n",
    "print('European call', str(c))"
   ]
  },
  {
   "cell_type": "code",
   "execution_count": null,
   "metadata": {},
   "outputs": [],
   "source": []
  }
 ],
 "metadata": {
  "kernelspec": {
   "display_name": "Python 3",
   "language": "python",
   "name": "python3"
  },
  "language_info": {
   "codemirror_mode": {
    "name": "ipython",
    "version": 3
   },
   "file_extension": ".py",
   "mimetype": "text/x-python",
   "name": "python",
   "nbconvert_exporter": "python",
   "pygments_lexer": "ipython3",
   "version": "3.8.5"
  }
 },
 "nbformat": 4,
 "nbformat_minor": 4
}
